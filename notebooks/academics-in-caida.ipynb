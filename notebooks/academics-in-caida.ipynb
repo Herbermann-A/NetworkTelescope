{
 "cells": [
  {
   "cell_type": "code",
   "execution_count": null,
   "id": "e7995f0c-5fa5-43b3-9c55-a9212a0a355e",
   "metadata": {},
   "outputs": [],
   "source": [
    "import os\n",
    "import pandas as pd\n",
    "import numpy as np\n",
    "\n",
    "# Read the notice.log file into a DataFrame\n",
    "scan_log_file = 'concat-conn.log'\n",
    "scan_log_df = pd.read_csv(scan_log_file, sep='\\t')\n",
    "scan_log_df.replace('-', np.nan, inplace=True)\n",
    "scan_log_clean = scan_log_df.dropna(axis=1, how='all')\n",
    "\n",
    "# Manually copied\n",
    "iplist = ['163.47.36.34',\n",
    " '103.98.236.58',\n",
    " '185.73.23.133',\n",
    " '169.228.66.212',\n",
    " '195.37.190.88',\n",
    " '145.90.8.10',\n",
    " '58.205.215.76',\n",
    " '218.197.36.118',\n",
    " '141.22.28.227',\n",
    " '171.67.71.209',\n",
    " '138.246.253.24',\n",
    " '219.243.212.85',\n",
    " '82.179.36.254',\n",
    " '163.47.36.33',\n",
    " '203.91.121.252',\n",
    " '134.75.30.73',\n",
    " '147.52.44.55',\n",
    " '140.116.96.199',\n",
    " '128.91.61.8']\n",
    "\n",
    "ipnames = {'163.47.36.34': 'Bangladesh Research and Education Network',\n",
    " '103.98.236.58': \"The Council of the King's School\",\n",
    " '185.73.23.133': 'RUB LIR INET',\n",
    " '169.228.66.212': 'University of California San Diego',\n",
    " '195.37.190.88': 'Landwirtschaftsschule Passau',\n",
    " '145.90.8.10': 'Universiteit Twente',\n",
    " '58.205.215.76': 'China Education and Research Network',\n",
    " '218.197.36.118': 'China Education and Research Network',\n",
    " '141.22.28.227': 'Hochschule fuer angewandte Wissenschaften',\n",
    " '171.67.71.209': 'Stanford University',\n",
    " '138.246.253.24': 'Ludwig-Maximilians-Universitaet Muenchen',\n",
    " '219.243.212.85': 'China Education and Research Network',\n",
    " '82.179.36.254': 'Federal State Institution Federal Scientific Research Institute for System Analysis of the Russian Academy of Sciences',\n",
    " '163.47.36.33': 'Bangladesh Research and Education Network',\n",
    " '203.91.121.252': 'Network Technology Experiment Validation and Demonstration Center',\n",
    " '134.75.30.73': 'KISTI',\n",
    " '147.52.44.55': 'University of Crete',\n",
    " '140.116.96.199': 'Taiwan Academic Network',\n",
    " '128.91.61.8': 'University of Pennsylvania'}\n"
   ]
  },
  {
   "cell_type": "code",
   "execution_count": null,
   "id": "05008846-091e-4f81-a41c-2f0d98641285",
   "metadata": {},
   "outputs": [],
   "source": [
    "targetips = len(scan_log_clean['id.resp_h'].unique())"
   ]
  },
  {
   "cell_type": "code",
   "execution_count": null,
   "id": "a15e0226-db8c-463e-bf10-ac458341d94c",
   "metadata": {},
   "outputs": [],
   "source": [
    "total_hours = 8\n",
    "\n",
    "aph_sum = 0\n",
    "\n",
    "for ip in iplist:\n",
    "    aph = round((ip_len[ip] / total_hours) / targetips, 2) \n",
    "    aph_sum += aph\n",
    "    ipnames[ip] = ip2loc['isp'].iloc[0]\n",
    "    print(f\"{ipnames[ip]} & {aph} \\\\\\ \")\n",
    "\n",
    "print(aph_sum)\n",
    "    "
   ]
  }
 ],
 "metadata": {
  "kernelspec": {
   "display_name": "Python 3 (ipykernel)",
   "language": "python",
   "name": "python3"
  },
  "language_info": {
   "codemirror_mode": {
    "name": "ipython",
    "version": 3
   },
   "file_extension": ".py",
   "mimetype": "text/x-python",
   "name": "python",
   "nbconvert_exporter": "python",
   "pygments_lexer": "ipython3",
   "version": "3.11.6"
  }
 },
 "nbformat": 4,
 "nbformat_minor": 5
}
