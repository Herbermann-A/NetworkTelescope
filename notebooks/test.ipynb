{
 "cells": [
  {
   "cell_type": "code",
   "execution_count": null,
   "id": "a966046a-3e29-4369-942c-f96bfb1451b7",
   "metadata": {},
   "outputs": [],
   "source": [
    "%run spark-instance.ipynb"
   ]
  },
  {
   "cell_type": "code",
   "execution_count": null,
   "id": "ce9b7d66-d253-426c-a86a-b3c2995e8db7",
   "metadata": {},
   "outputs": [],
   "source": [
    "# here you can use spark."
   ]
  }
 ],
 "metadata": {
  "kernelspec": {
   "display_name": "Python 3 (ipykernel)",
   "language": "python",
   "name": "python3"
  },
  "language_info": {
   "codemirror_mode": {
    "name": "ipython",
    "version": 3
   },
   "file_extension": ".py",
   "mimetype": "text/x-python",
   "name": "python",
   "nbconvert_exporter": "python",
   "pygments_lexer": "ipython3",
   "version": "3.11.6"
  }
 },
 "nbformat": 4,
 "nbformat_minor": 5
}
