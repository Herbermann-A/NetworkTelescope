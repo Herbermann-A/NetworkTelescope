{
 "cells": [
  {
   "cell_type": "code",
   "execution_count": null,
   "id": "8a37bb26-8f7c-447a-ad6c-1b1c041aadc3",
   "metadata": {},
   "outputs": [],
   "source": [
    "import os\n",
    "import pandas as pd\n",
    "import numpy as np\n",
    "\n",
    "# Read the notice.log file into a DataFrame\n",
    "scan_log_file = 'concat-notice.log'\n",
    "scan_log_df = pd.read_csv(scan_log_file, sep='\\t')\n",
    "scan_log_df.replace('-', np.nan, inplace=True)\n",
    "scan_log_clean = scan_log_df.dropna(axis=1, how='all')\n",
    "\n",
    "# Manually copied\n",
    "ips_to_check = [\"221.229.215.71\", \"164.90.174.244\", \"63.251.238.12\", \"79.110.62.185\", \"185.242.226.39\", \"188.166.248.56\", \"45.14.226.132\", \"185.242.226.3\", \"185.242.226.5\", \"104.156.155.10\", \"91.218.114.197\", \"188.166.247.242\", \"185.242.226.40\", \"104.156.155.8\",\n",
    "                \"141.105.67.7\", \"104.156.155.11\", \"158.255.7.153\", \"104.156.155.37\", \"165.154.230.251\", \"185.242.226.6\", \"165.154.240.27\", \"165.154.225.190\", \"185.242.226.47\", \"45.14.226.152\", \"92.118.39.34\", \"39.152.141.101\", \"91.92.245.242\", \"185.242.226.2\"]\n",
    "\n",
    "\n",
    "# Get all logs for ips marked as port scanners\n",
    "port_scan_logs = scan_log_clean[scan_log_clean['note'] == 'Scan::Port_Scan']\n",
    "\n",
    "port_scan_logs"
   ]
  },
  {
   "cell_type": "code",
   "execution_count": null,
   "id": "6f29da8e-4fd3-4b64-aea5-3690d5eba6f5",
   "metadata": {},
   "outputs": [],
   "source": [
    "# Extract flagged IPs\n",
    "flagged_ips = set(port_scan_logs['src'])\n",
    "ips_to_check_set = set(ips_to_check)\n",
    "\n",
    "# Find IPs that are common in both sets\n",
    "common_ips = flagged_ips.intersection(ips_to_check_set)\n",
    "\n",
    "# Find IPs only in one of the sets\n",
    "ips_only_in_caida = flagged_ips - ips_to_check_set\n",
    "ips_only_in_mine = ips_to_check_set - flagged_ips\n"
   ]
  },
  {
   "cell_type": "code",
   "execution_count": null,
   "id": "1c914bcb-a6d0-4c0e-9856-bae02b279588",
   "metadata": {},
   "outputs": [],
   "source": [
    "# Print common IPs\n",
    "print(f\"Common IPs: {len(common_ips)}\")\n",
    "for ip in common_ips:\n",
    "    print(ip)\n",
    "\n",
    "# Print IPs only in flagged set\n",
    "print(f\"\\nIPs only in caida set (should be none): {len(ips_only_in_caida)}\")\n",
    "for ip in ips_only_in_caida:\n",
    "    print(ip)\n",
    "\n",
    "# Print IPs only in check set\n",
    "print(f\"\\nIPs only in my set: {len(ips_only_in_mine)}\")\n",
    "for ip in ips_only_in_mine:\n",
    "    print(ip)"
   ]
  },
  {
   "cell_type": "code",
   "execution_count": null,
   "id": "41770ea8-1d81-412b-b852-ef0ed689b894",
   "metadata": {},
   "outputs": [],
   "source": [
    "folder_path = '/conn-logs'\n",
    "# Port scan dict: Key: IP, Value: List(scan_count, series of value counts)\n",
    "# Example: \"192.168.10.5\": [42, [80, 443, 22]]\n",
    "port_scan_dict = {}\n",
    "\n",
    "file_num = len(os.listdir(folder_path))\n",
    "print(f\"Working on log files: [0/{file_num}]\", end='')\n",
    "counter = 0\n",
    "\n",
    "# Iterate over each file in the folder\n",
    "for file_name in os.listdir(folder_path):\n",
    "    file_path = os.path.join(folder_path, file_name)\n",
    "    counter = counter+1\n",
    "    print(f\"Working on log files: [{counter}/{file_num}] ({file_name})\", end='\\r', flush=True)\n",
    "\n",
    "    # Check if the current file is a regular file\n",
    "    if os.path.isfile(file_path):\n",
    "        conn_log_df = pd.read_csv(file_path, sep='\\s+')\n",
    "        conn_log_df['ts'] = pd.to_datetime(conn_log_df['ts'], unit='s')\n",
    "\n",
    "        for ip in common_ips:\n",
    "            ip_frame = conn_log_df[conn_log_df['id.orig_h'] == ip]\n",
    "            count = ip_frame['id.resp_h'].value_counts().count()\n",
    "            scanned_ports = ip_frame['id.resp_p'].value_counts()\n",
    "\n",
    "            # Check if key exists\n",
    "            if ip in port_scan_dict:\n",
    "                current_value = port_scan_dict[ip]\n",
    "                current_value[0] = current_value[0] + count\n",
    "                current_value[1] = current_value[1] + scanned_ports\n",
    "                port_scan_dict[ip] = current_value\n",
    "            else:\n",
    "                port_scan_dict[ip] = [count, scanned_ports]\n",
    "\n",
    "print()\n"
   ]
  },
  {
   "cell_type": "code",
   "execution_count": null,
   "id": "a1481218-798a-4f50-8940-daed5dcba387",
   "metadata": {},
   "outputs": [],
   "source": [
    "for ip in common_ips:\n",
    "    print(f\"{ip} scanned {port_scan_dict[ip][0]}\")\n",
    "    print(port_scan_dict[ip][1])"
   ]
  }
 ],
 "metadata": {
  "kernelspec": {
   "display_name": "Python 3 (ipykernel)",
   "language": "python",
   "name": "python3"
  },
  "language_info": {
   "codemirror_mode": {
    "name": "ipython",
    "version": 3
   },
   "file_extension": ".py",
   "mimetype": "text/x-python",
   "name": "python",
   "nbconvert_exporter": "python",
   "pygments_lexer": "ipython3",
   "version": "3.11.6"
  }
 },
 "nbformat": 4,
 "nbformat_minor": 5
}
