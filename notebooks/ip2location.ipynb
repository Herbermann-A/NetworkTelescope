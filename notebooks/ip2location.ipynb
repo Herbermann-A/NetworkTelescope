{
 "cells": [
  {
   "cell_type": "code",
   "execution_count": null,
   "id": "e284337f-9ac5-4c77-b2cc-0076bde85808",
   "metadata": {},
   "outputs": [],
   "source": [
    "import pandas as pd\n",
    "import ipaddress\n",
    "\n",
    "# Replace 'ip2location_data.csv' with the path to your CSV file\n",
    "csv_file = 'data/ip2location/IPV6-COUNTRY-REGION-CITY-LATITUDE-LONGITUDE-ISP-DOMAIN-MOBILE-USAGETYPE.CSV'\n",
    "\n",
    "columns = [\"ip_from\", \"ip_to\", \"country_code\", \"country_name\", \"region_name\", \"city_name\", \"latitude\", \"longitude\", \"isp\", \"domain\", \"mcc\", \"mnc\", \"mobile_brand\", \"usage_type\"]\n",
    "# Assuming your CSV file has headers, if not, set header=None\n",
    "df = pd.read_csv(csv_file, names=columns, header=None)\n",
    "\n",
    "def numeric_to_ipv6(numeric_ip):\n",
    "    ip = ipaddress.ip_address(numeric_ip)\n",
    "    return str(ip)\n",
    "\n",
    "# Convert ip string to ipnumber format of ip2location\n",
    "# see https://blog.ip2location.com/knowledge-base/ipv4-mapped-ipv6-address/\n",
    "def ipstr_to_int(ip_str):\n",
    "    parts = ip_str.split('.')\n",
    "    ipnum = int(parts[0])*pow(256,3)+int(parts[1])*pow(256,2)+int(parts[2])*256+197+281470681743360\n",
    "    return ipnum\n",
    "\n",
    "#df['ip_from'] = df['ip_from'].apply(numeric_to_ipv6)\n",
    "#df['ip_to'] = df['ip_to'].apply(numeric_to_ipv6)\n",
    "\n",
    "# Display the first few rows of the DataFrame to verify the import\n",
    "#print(df)\n"
   ]
  },
  {
   "cell_type": "code",
   "execution_count": null,
   "id": "a6cf6eda-1a32-4599-ad06-d13cfe488e4c",
   "metadata": {},
   "outputs": [],
   "source": [
    "# Convert 'column1' to numeric, coercing non-numeric values to NaN\n",
    "df['ip_from'] = pd.to_numeric(df['ip_from'], errors='coerce')\n",
    "df['ip_to'] = pd.to_numeric(df['ip_to'], errors='coerce')\n",
    "\n",
    "# Drop rows with NaN values (where conversion failed)\n",
    "df.dropna(subset=['ip_from'], inplace=True)\n",
    "df.dropna(subset=['ip_to'], inplace=True)"
   ]
  },
  {
   "cell_type": "code",
   "execution_count": null,
   "id": "659c46bd-839a-4442-aabd-f3992a8e4bc5",
   "metadata": {},
   "outputs": [],
   "source": [
    "local_ips = [\"104.248.118.173\",\"104.248.19.10\",\"104.248.29.106\",\"107.170.61.18\",\"107.170.61.19\",\"137.184.22.231\",\"138.68.190.139\",\"142.93.143.204\",\"143.110.192.246\",\"152.42.169.228\",\"159.203.68.137\",\"159.203.77.200\",\"159.223.11.117\",\"159.223.95.229\",\"159.65.151.72\",\"159.65.155.240\",\"159.65.185.236\",\"159.65.64.177\",\"159.65.72.64\",\"159.89.113.129\",\"159.89.121.138\",\"159.89.160.101\",\"159.89.53.114\",\"162.243.14.30\",\"164.90.221.158\",\"164.92.104.204\",\"164.92.83.209\",\"165.227.40.189\",\"170.64.217.183\",\"170.64.217.184\",\"170.64.217.68\",\"174.138.15.14\",\"178.62.10.136\",\"188.166.252.40\",\"188.226.134.9\",\"188.226.192.6\",\"192.241.200.18\",\"192.241.201.11\",\"192.241.201.8\",\"209.97.185.211\",\"64.23.233.193\",\"82.196.3.14\"]\n",
    "\n",
    "for ip in local_ips:\n",
    "    print(ip)\n",
    "\n",
    "#addr = 281470698572544\n",
    "#filtered_df = df[(df['ip_from'] <= addr) & (df['ip_to'] >= addr)]\n",
    "#print(f\"IP: {ipaddress.ip_address(addr)}, Country: {filtered_df['country_name'].iloc[0] }\")\n",
    "\n",
    "for ip in local_ips:\n",
    "    numeric = ipstr_to_int(ip)\n",
    "    ip2loc = df[(df['ip_from'] <= numeric) & (df['ip_to'] >= numeric)]\n",
    "    print(f\"{ip2loc['ip_from'].iloc[0]} {ip2loc['ip_to'].iloc[0]} IP: {ip} \\t Country: {ip2loc['country_code'].iloc[0]} City: {ip2loc['city_name'].iloc[0]} \\t ISP: {ip2loc['isp'].iloc[0]} Usage: {ip2loc['usage_type'].iloc[0]} Domain: {ip2loc['domain'].iloc[0]}\")\n",
    "    "
   ]
  },
  {
   "cell_type": "code",
   "execution_count": null,
   "id": "25c64ea1-200d-4735-9e35-21b1d977c114",
   "metadata": {},
   "outputs": [],
   "source": []
  },
  {
   "cell_type": "code",
   "execution_count": null,
   "id": "7b8646a6-b37b-4ed5-8865-1b593b9ad94a",
   "metadata": {},
   "outputs": [],
   "source": []
  }
 ],
 "metadata": {
  "kernelspec": {
   "display_name": "Python 3 (ipykernel)",
   "language": "python",
   "name": "python3"
  },
  "language_info": {
   "codemirror_mode": {
    "name": "ipython",
    "version": 3
   },
   "file_extension": ".py",
   "mimetype": "text/x-python",
   "name": "python",
   "nbconvert_exporter": "python",
   "pygments_lexer": "ipython3",
   "version": "3.11.6"
  }
 },
 "nbformat": 4,
 "nbformat_minor": 5
}
