{
 "cells": [
  {
   "cell_type": "code",
   "execution_count": null,
   "metadata": {},
   "outputs": [],
   "source": [
    "import pandas as pd\n",
    "import numpy as np\n",
    "import ipaddress\n",
    "\n",
    "# Read the conn.log file into a DataFrame\n",
    "conn_log_file = 'data/zeek-logs/conn.log'\n",
    "conn_log_df = pd.read_csv(conn_log_file, sep='\\s+')\n",
    "conn_log_df\n",
    "\n"
   ]
  },
  {
   "cell_type": "code",
   "execution_count": null,
   "metadata": {},
   "outputs": [],
   "source": [
    "conn_log_df = conn_log_df[conn_log_df['id.orig_h'].apply(lambda x: ipaddress.ip_address(x).version == 4)]\n",
    "\n",
    "# Extract timestamps and convert them to datetime objects\n",
    "timestamps = pd.to_datetime(conn_log_df['ts'], unit='s')\n",
    "\n",
    "# Calculate time differences between consecutive timestamps\n",
    "time_diffs = timestamps.diff().dropna()\n",
    "\n",
    "# Group time differences by second and calculate mean for each second\n",
    "time_diffs_per_second = time_diffs.dt.total_seconds().groupby(timestamps.dt.floor('s')).mean()\n",
    "\n",
    "# Compute overall mean arrival time per second\n",
    "mean_arrival_time_per_second = time_diffs_per_second.mean()\n",
    "\n",
    "print(\"Mean arrival time of packets per second:\", mean_arrival_time_per_second, \"packets\")"
   ]
  },
  {
   "cell_type": "code",
   "execution_count": null,
   "metadata": {},
   "outputs": [],
   "source": [
    "len(conn_log_df)"
   ]
  },
  {
   "cell_type": "code",
   "execution_count": null,
   "metadata": {},
   "outputs": [],
   "source": [
    "len(conn_log_df['id.orig_h'].unique())"
   ]
  },
  {
   "cell_type": "code",
   "execution_count": null,
   "metadata": {},
   "outputs": [],
   "source": [
    "local_ips = [\"104.248.118.173\",\"104.248.19.10\",\"104.248.29.106\",\"107.170.61.18\",\"107.170.61.19\",\"137.184.22.231\",\"138.68.190.139\",\"142.93.143.204\",\"143.110.192.246\",\"152.42.169.228\",\"159.203.68.137\",\"159.203.77.200\",\"159.223.11.117\",\"159.223.95.229\",\"159.65.151.72\",\"159.65.155.240\",\"159.65.185.236\",\"159.65.64.177\",\"159.65.72.64\",\"159.89.113.129\",\"159.89.121.138\",\"159.89.160.101\",\"159.89.53.114\",\"162.243.14.30\",\"164.90.221.158\",\"164.92.104.204\",\"164.92.83.209\",\"165.227.40.189\",\"170.64.217.183\",\"170.64.217.184\",\"170.64.217.68\",\"174.138.15.14\",\"178.62.10.136\",\"188.166.252.40\",\"188.226.134.9\",\"188.226.192.6\",\"192.241.200.18\",\"192.241.201.11\",\"192.241.201.8\",\"209.97.185.211\",\"64.23.233.193\",\"82.196.3.14\"]\n",
    "fdf = conn_log_df[conn_log_df['id.resp_h'].isin(local_ips)]\n",
    "len(conn_log_df)  - len(fdf)"
   ]
  },
  {
   "cell_type": "code",
   "execution_count": null,
   "metadata": {},
   "outputs": [],
   "source": [
    "#fdf['duration'].replace('-', np.nan, inplace=True)\n",
    "#fdf['duration'] = fdf['duration'].astype(float)\n",
    "#fdf.mean()"
   ]
  },
  {
   "cell_type": "code",
   "execution_count": null,
   "metadata": {},
   "outputs": [],
   "source": [
    "len(fdf['id.orig_h'].unique())"
   ]
  },
  {
   "cell_type": "code",
   "execution_count": null,
   "metadata": {},
   "outputs": [],
   "source": [
    "# Count occurrences of each protocol\n",
    "protocol_counts = conn_log_df['proto'].value_counts()\n",
    "\n",
    "# Calculate percentage of each protocol\n",
    "total_connections = len(conn_log_df)\n",
    "protocol_percentages = (protocol_counts / total_connections) * 100\n",
    "\n",
    "# Display top protocols and their percentages\n",
    "top_protocols = protocol_percentages.head(10)  # Adjust the number if needed\n",
    "print(\"Top used protocols and their percentages:\")\n",
    "print(top_protocols)"
   ]
  },
  {
   "cell_type": "code",
   "execution_count": null,
   "metadata": {},
   "outputs": [],
   "source": [
    "# Count occurrences of each destination port\n",
    "destination_port_counts = conn_log_df['id.resp_p'].value_counts()\n",
    "\n",
    "# Calculate percentage of each destination port\n",
    "total_connections = len(conn_log_df)\n",
    "destination_port_percentages = (destination_port_counts / total_connections) * 100\n",
    "\n",
    "# Display top destination ports and their percentages\n",
    "top_destination_ports = destination_port_percentages.head(20)  # Adjust the number if needed\n",
    "print(\"Top destination ports and their percentages:\")\n",
    "print(top_destination_ports)"
   ]
  },
  {
   "cell_type": "code",
   "execution_count": null,
   "metadata": {},
   "outputs": [],
   "source": [
    "import matplotlib.pyplot as plt\n",
    "\n",
    "# Extract response ports\n",
    "response_ports = conn_log_df['id.resp_p']\n",
    "\n",
    "# Count occurrences of each response port\n",
    "response_port_counts = response_ports.value_counts()\n",
    "\n",
    "# Calculate frequency of requests per second for each response port\n",
    "conn_log_df['ts'] = pd.to_datetime(conn_log_df['ts'], unit='s')\n",
    "conn_log_df['time_seconds'] = conn_log_df['ts'].dt.floor('s').dt.time\n",
    "requests_per_second = conn_log_df.groupby(['time_seconds', 'id.resp_p']).size().groupby('id.resp_p').mean()\n",
    "\n",
    "# Sort response ports by the number of packets received\n",
    "sorted_response_ports = response_port_counts.sort_values(ascending=False)\n",
    "\n",
    "# Calculate log10 of rank and log10 of frequency\n",
    "log_rank = np.log10(range(1, len(sorted_response_ports) + 1))\n",
    "log_frequency = np.log10(requests_per_second[sorted_response_ports.index])\n",
    "\n",
    "# Plot rank-frequency plot\n",
    "plt.figure(figsize=(10, 6))\n",
    "plt.scatter(log_rank, log_frequency, marker='.', color='blue')\n",
    "plt.xlabel('log10 Rank of Port by Packets Received')\n",
    "plt.ylabel('log10 Frequency of Requests per Second')\n",
    "plt.title('Rank-Frequency Plot of Response Ports')\n",
    "plt.grid(True)\n",
    "plt.show()"
   ]
  },
  {
   "cell_type": "code",
   "execution_count": null,
   "metadata": {},
   "outputs": [],
   "source": [
    "# Extract source IPs\n",
    "source_ips = conn_log_df['id.orig_h']\n",
    "\n",
    "# Count occurrences of each source IP\n",
    "source_ip_counts = source_ips.value_counts()\n",
    "\n",
    "# Calculate frequency of requests per second for each source IP\n",
    "conn_log_df['ts'] = pd.to_datetime(conn_log_df['ts'], unit='s')\n",
    "conn_log_df['time_seconds'] = conn_log_df['ts'].dt.floor('s').dt.time\n",
    "requests_per_second = conn_log_df.groupby(['time_seconds', 'id.orig_h']).size().groupby('id.orig_h').mean()\n",
    "\n",
    "# Sort source IPs by the number of packets sent\n",
    "sorted_source_ips = source_ip_counts.sort_values(ascending=False)\n",
    "\n",
    "# Calculate log10 of rank and log10 of frequency\n",
    "log_rank = np.log10(range(1, len(sorted_source_ips) + 1))\n",
    "log_frequency = np.log10(requests_per_second[sorted_source_ips.index])\n",
    "\n",
    "# Plot rank-frequency plot\n",
    "plt.figure(figsize=(10, 6))\n",
    "plt.scatter(log_rank, log_frequency, marker='.', color='blue')\n",
    "plt.xlabel('log10 Rank of IP by Packets Sent')\n",
    "plt.ylabel('log10 Frequency of Requests per Second')\n",
    "plt.title('Rank-Frequency Plot of Source IPs')\n",
    "plt.grid(True)\n",
    "plt.show()"
   ]
  },
  {
   "cell_type": "code",
   "execution_count": null,
   "metadata": {},
   "outputs": [],
   "source": [
    "# Convert timestamps to datetime objects and extract date and hour\n",
    "conn_log_df['ts'] = pd.to_datetime(conn_log_df['ts'], unit='s')\n",
    "conn_log_df['date'] = conn_log_df['ts'].dt.date\n",
    "conn_log_df['hour'] = conn_log_df['ts'].dt.hour\n",
    "\n",
    "# Group the data by date and hour and calculate total number of packets per hour\n",
    "traffic_per_hour = conn_log_df.groupby(['date', 'hour']).size().reset_index(name='packets_per_hour')\n",
    "\n",
    "# Calculate packets per second aggregated per hour\n",
    "traffic_per_hour['packets_per_second'] = traffic_per_hour['packets_per_hour'] / 3600\n",
    "\n",
    "# Plot the aggregated packets per second over time\n",
    "plt.figure(figsize=(12, 6))\n",
    "plt.scatter(traffic_per_hour['date'], traffic_per_hour['packets_per_second'])\n",
    "plt.xlabel('Date')\n",
    "plt.ylabel('Packets per Second (Aggregated per Hour)')\n",
    "plt.title('Total Network Traffic Over Time')\n",
    "plt.grid(True)\n",
    "plt.show()"
   ]
  },
  {
   "cell_type": "code",
   "execution_count": null,
   "metadata": {},
   "outputs": [],
   "source": [
    "from mpl_toolkits.mplot3d import Axes3D\n",
    "\n",
    "# Sample data preprocessing: extracting a subset of data\n",
    "sample_data = conn_log_df.sample(n=5000)\n",
    "#sample_data = conn_log_df\n",
    "\n",
    "# Convert IP addresses to numerical values using hashing\n",
    "sample_data['source_ip_numeric'] = sample_data['id.orig_h'].apply(lambda x: sum(int(octet) << (8 * i) for i, octet in enumerate(x.split('.')[::-1])))\n",
    "sample_data['destination_ip_numeric'] = sample_data['id.resp_h'].apply(lambda x: sum(int(octet) << (8 * i) for i, octet in enumerate(x.split('.')[::-1])))\n",
    "\n",
    "# Create a 3D plot\n",
    "fig = plt.figure(figsize=(10, 8))\n",
    "ax = fig.add_subplot(111, projection='3d')\n",
    "\n",
    "# Plotting the data\n",
    "ax.scatter(sample_data['source_ip_numeric'], sample_data['destination_ip_numeric'], sample_data['id.resp_p'])\n",
    "\n",
    "# Labeling axes\n",
    "ax.set_xlabel('Source IP')\n",
    "ax.set_zlabel('Destination Port')\n",
    "ax.set_ylabel('Destination IP')\n",
    "\n",
    "plt.title('3D Plot of Source IP, Destination Port, and Destination IP')\n",
    "plt.show()"
   ]
  },
  {
   "cell_type": "code",
   "execution_count": null,
   "metadata": {},
   "outputs": [],
   "source": [
    "conn_log_df['conn_state'].value_counts()"
   ]
  },
  {
   "cell_type": "code",
   "execution_count": null,
   "metadata": {},
   "outputs": [],
   "source": [
    "# Replace 'ip2location_data.csv' with the path to your CSV file\n",
    "csv_file = 'data/ip2location/IPV6-COUNTRY-REGION-CITY-LATITUDE-LONGITUDE-ISP-DOMAIN-MOBILE-USAGETYPE.CSV'\n",
    "\n",
    "columns = [\"ip_from\", \"ip_to\", \"country_code\", \"country_name\", \"region_name\", \"city_name\", \"latitude\", \"longitude\", \"isp\", \"domain\", \"mcc\", \"mnc\", \"mobile_brand\", \"usage_type\"]\n",
    "# Assuming your CSV file has headers, if not, set header=None\n",
    "df = pd.read_csv(csv_file, names=columns, header=None)\n",
    "\n",
    "def numeric_to_ipv6(numeric_ip):\n",
    "    ip = ipaddress.ip_address(numeric_ip)\n",
    "    return str(ip)\n",
    "\n",
    "# Convert ip string to ipnumber format of ip2location\n",
    "# see https://blog.ip2location.com/knowledge-base/ipv4-mapped-ipv6-address/\n",
    "def ipstr_to_int(ip_str):\n",
    "    parts = ip_str.split('.')\n",
    "    ipnum = int(parts[0])*pow(256,3)+int(parts[1])*pow(256,2)+int(parts[2])*256+197+281470681743360\n",
    "    return ipnum\n",
    "\n",
    "# Convert 'column1' to numeric, coercing non-numeric values to NaN\n",
    "df['ip_from'] = pd.to_numeric(df['ip_from'], errors='coerce')\n",
    "df['ip_to'] = pd.to_numeric(df['ip_to'], errors='coerce')\n",
    "\n",
    "# Drop rows with NaN values (where conversion failed)\n",
    "df.dropna(subset=['ip_from'], inplace=True)\n",
    "df.dropna(subset=['ip_to'], inplace=True)"
   ]
  },
  {
   "cell_type": "code",
   "execution_count": null,
   "metadata": {},
   "outputs": [],
   "source": [
    "ips = conn_log_df['id.orig_h'].value_counts().head(5)\n",
    "l = conn_log_df.shape[0]\n",
    "for ip, val in ips.items():\n",
    "    print(f\"{ip} \\t\\t {val} \\t {round(val/l*100,2)}\")"
   ]
  },
  {
   "cell_type": "code",
   "execution_count": null,
   "metadata": {},
   "outputs": [],
   "source": [
    "for ip in ips.keys():\n",
    "    ipnum = ipstr_to_int(str(ip))\n",
    "    ip2loc = df[(df['ip_from'] <= ipnum) & (df['ip_to'] >= ipnum)] # .iloc[0]\n",
    "    print(f\"IP: {ip} in {ip2loc['country_code'].iloc[0]} City: {ip2loc['city_name'].iloc[0]} ISP: {ip2loc['isp'].iloc[0]} Domain: {ip2loc['domain'].iloc[0]} Usage: {ip2loc['usage_type'].iloc[0]}\")"
   ]
  },
  {
   "cell_type": "code",
   "execution_count": null,
   "metadata": {},
   "outputs": [],
   "source": [
    "# Count occurrences of each destination port\n",
    "destination_port_counts = conn_log_df['id.orig_p'].value_counts()\n",
    "\n",
    "# Calculate percentage of each destination port\n",
    "total_connections = len(conn_log_df)\n",
    "destination_port_percentages = (destination_port_counts / total_connections) * 100\n",
    "\n",
    "# Display top destination ports and their percentages\n",
    "top_destination_ports = destination_port_percentages.head(20)  # Adjust the number if needed\n",
    "print(\"Top origin ports and their percentages:\")\n",
    "print(top_destination_ports)"
   ]
  },
  {
   "cell_type": "code",
   "execution_count": null,
   "metadata": {},
   "outputs": [],
   "source": [
    "conn_log_df['id.resp_p'].value_counts().nlargest(10)"
   ]
  },
  {
   "cell_type": "code",
   "execution_count": null,
   "metadata": {},
   "outputs": [],
   "source": [
    "rstrh = conn_log_df[conn_log_df['conn_state'] == \"SF\"]\n",
    "rstrh"
   ]
  },
  {
   "cell_type": "code",
   "execution_count": null,
   "metadata": {},
   "outputs": [],
   "source": [
    "rstrh['id.resp_p'].value_counts()"
   ]
  },
  {
   "cell_type": "code",
   "execution_count": null,
   "metadata": {},
   "outputs": [],
   "source": [
    "rstrh['history'].value_counts()"
   ]
  },
  {
   "cell_type": "code",
   "execution_count": null,
   "metadata": {},
   "outputs": [],
   "source": [
    "rstrh['proto'].value_counts()"
   ]
  },
  {
   "cell_type": "code",
   "execution_count": null,
   "metadata": {},
   "outputs": [],
   "source": [
    "len(rstrh)"
   ]
  },
  {
   "cell_type": "code",
   "execution_count": null,
   "metadata": {},
   "outputs": [],
   "source": [
    "rstrh['service'].value_counts()"
   ]
  },
  {
   "cell_type": "code",
   "execution_count": null,
   "metadata": {},
   "outputs": [],
   "source": [
    "local_ips = [\"104.248.118.173\",\"104.248.19.10\",\"104.248.29.106\",\"107.170.61.18\",\"107.170.61.19\",\"137.184.22.231\",\"138.68.190.139\",\"142.93.143.204\",\"143.110.192.246\",\"152.42.169.228\",\"159.203.68.137\",\"159.203.77.200\",\"159.223.11.117\",\"159.223.95.229\",\"159.65.151.72\",\"159.65.155.240\",\"159.65.185.236\",\"159.65.64.177\",\"159.65.72.64\",\"159.89.113.129\",\"159.89.121.138\",\"159.89.160.101\",\"159.89.53.114\",\"162.243.14.30\",\"164.90.221.158\",\"164.92.104.204\",\"164.92.83.209\",\"165.227.40.189\",\"170.64.217.183\",\"170.64.217.184\",\"170.64.217.68\",\"174.138.15.14\",\"178.62.10.136\",\"188.166.252.40\",\"188.226.134.9\",\"188.226.192.6\",\"192.241.200.18\",\"192.241.201.11\",\"192.241.201.8\",\"209.97.185.211\",\"64.23.233.193\",\"82.196.3.14\"]"
   ]
  },
  {
   "cell_type": "code",
   "execution_count": null,
   "metadata": {},
   "outputs": [],
   "source": [
    "localcons = rstrh[~rstrh['id.orig_h'].isin(local_ips)]"
   ]
  },
  {
   "cell_type": "code",
   "execution_count": null,
   "metadata": {},
   "outputs": [],
   "source": [
    "exips = localcons['id.orig_h']\n",
    "exips"
   ]
  },
  {
   "cell_type": "code",
   "execution_count": null,
   "metadata": {},
   "outputs": [],
   "source": [
    "for ip in exips:\n",
    "    ipnum = ipstr_to_int(str(ip))\n",
    "    ip2loc = df[(df['ip_from'] <= ipnum) & (df['ip_to'] >= ipnum)] # .iloc[0]\n",
    "    print(f\"IP: {ip} in {ip2loc['country_code'].iloc[0]} City: {ip2loc['city_name'].iloc[0]} ISP: {ip2loc['isp'].iloc[0]} Domain: {ip2loc['domain'].iloc[0]} Usage: {ip2loc['usage_type'].iloc[0]}\")"
   ]
  },
  {
   "cell_type": "code",
   "execution_count": null,
   "metadata": {},
   "outputs": [],
   "source": [
    "top5ips = conn_log_df['id.orig_h'].value_counts().nlargest(6).to_dict()\n",
    "top5ips.pop(\"192.241.201.11\")\n",
    "print(top5ips.keys())\n",
    "hist = conn_log_df[conn_log_df['id.orig_h'].isin(top5ips.keys())] #icmp message code?"
   ]
  },
  {
   "cell_type": "code",
   "execution_count": null,
   "metadata": {},
   "outputs": [],
   "source": [
    "#localcons = hist[hist['id.orig_h'].isin(local_ips)]\n",
    "#localcons\n",
    "len(conn_log_df)"
   ]
  },
  {
   "cell_type": "code",
   "execution_count": null,
   "metadata": {},
   "outputs": [],
   "source": [
    "hist['id.orig_h'].value_counts()"
   ]
  },
  {
   "cell_type": "code",
   "execution_count": null,
   "metadata": {},
   "outputs": [],
   "source": [
    "hist['id.resp_p'].value_counts() # icmp message type"
   ]
  },
  {
   "cell_type": "code",
   "execution_count": null,
   "metadata": {},
   "outputs": [],
   "source": [
    "#top2\n",
    "t2 = hist[(hist['id.orig_h'] == \"221.234.36.218\")]\n",
    "t2['id.resp_p'].value_counts()"
   ]
  },
  {
   "cell_type": "code",
   "execution_count": null,
   "metadata": {},
   "outputs": [],
   "source": [
    "t2['id.resp_h'].value_counts()"
   ]
  },
  {
   "cell_type": "code",
   "execution_count": null,
   "metadata": {},
   "outputs": [],
   "source": [
    "hist['conn_state'].value_counts()"
   ]
  },
  {
   "cell_type": "code",
   "execution_count": null,
   "metadata": {},
   "outputs": [],
   "source": [
    "hist['history'].value_counts().nlargest(5)"
   ]
  },
  {
   "cell_type": "code",
   "execution_count": null,
   "metadata": {},
   "outputs": [],
   "source": [
    "hist['proto'].value_counts()"
   ]
  },
  {
   "cell_type": "code",
   "execution_count": null,
   "metadata": {},
   "outputs": [],
   "source": [
    "hist['service'].value_counts()"
   ]
  },
  {
   "cell_type": "code",
   "execution_count": null,
   "metadata": {},
   "outputs": [],
   "source": [
    "#hist['id.resp_p'].value_counts().nlargest(30)"
   ]
  },
  {
   "cell_type": "code",
   "execution_count": null,
   "metadata": {},
   "outputs": [],
   "source": [
    "ips = hist['id.resp_h'].value_counts().nlargest(100)\n",
    "len(ips)"
   ]
  },
  {
   "cell_type": "code",
   "execution_count": null,
   "metadata": {},
   "outputs": [],
   "source": [
    "usages = []\n",
    "domains = []\n",
    "countries = []\n",
    "\n",
    "ip = \"159.203.181.133\"\n",
    "ipnum = ipstr_to_int(str(ip))\n",
    "ip2loc = df[(df['ip_from'] <= ipnum) & (df['ip_to'] >= ipnum)]\n",
    "print(f\"IP: {ip} in {ip2loc['country_code'].iloc[0]} City: {ip2loc['city_name'].iloc[0]} ISP: {ip2loc['isp'].iloc[0]} Domain: {ip2loc['domain'].iloc[0]} Usage: {ip2loc['usage_type'].iloc[0]}\")\n",
    "\n",
    "for ip in top5ips:\n",
    "    ipnum = ipstr_to_int(str(ip))\n",
    "    ip2loc = df[(df['ip_from'] <= ipnum) & (df['ip_to'] >= ipnum)] # .iloc[0]\n",
    "    usages.append(ip2loc['usage_type'].iloc[0])\n",
    "    domains.append(ip2loc['domain'].iloc[0])\n",
    "    countries.append(ip2loc['country_code'].iloc[0])\n",
    "    #print(f\"IP: {ip} in {ip2loc['country_code'].iloc[0]} City: {ip2loc['city_name'].iloc[0]} ISP: {ip2loc['isp'].iloc[0]} Domain: {ip2loc['domain'].iloc[0]} Usage: {ip2loc['usage_type'].iloc[0]}\")"
   ]
  },
  {
   "cell_type": "code",
   "execution_count": null,
   "metadata": {},
   "outputs": [],
   "source": [
    "from collections import Counter\n",
    "\n",
    "usage_counts = Counter(usages)\n",
    "domain_counts = Counter(domains)\n",
    "country_counts = Counter(countries)"
   ]
  },
  {
   "cell_type": "code",
   "execution_count": null,
   "metadata": {},
   "outputs": [],
   "source": [
    "print(usage_counts.most_common(10))\n",
    "print(domain_counts.most_common(10))\n",
    "print(country_counts.most_common(10))"
   ]
  },
  {
   "cell_type": "code",
   "execution_count": null,
   "metadata": {},
   "outputs": [],
   "source": [
    "strange = hist[hist['id.orig_h'] == \"192.241.201.11\"]\n",
    "strange"
   ]
  },
  {
   "cell_type": "code",
   "execution_count": null,
   "metadata": {},
   "outputs": [],
   "source": [
    "strange['id.resp_h'].value_counts()"
   ]
  },
  {
   "cell_type": "code",
   "execution_count": null,
   "metadata": {},
   "outputs": [],
   "source": [
    "strange['history'].value_counts()"
   ]
  },
  {
   "cell_type": "code",
   "execution_count": null,
   "metadata": {},
   "outputs": [],
   "source": [
    "# Count the occurrences of each response port\n",
    "# Filter ports smaller than 1024\n",
    "colors = [\"#440154\", \"#3b528b\", \"#21918c\", \"#5ec962\", \"#fde725\"]\n",
    "filtered_df = conn_log_df[(conn_log_df['id.resp_p'] < 1024) & (conn_log_df['id.resp_p'] > 10)]\n",
    "port_counts = filtered_df['id.resp_p'].value_counts().reset_index()\n",
    "port_counts.columns = ['id.resp_p', 'count']\n",
    "\n",
    "# Select the top 50 ports\n",
    "top_50_ports = port_counts.nlargest(30, 'count')\n",
    "top_50_ports['id.resp_p'] = top_50_ports['id.resp_p'].astype(str)\n",
    "\n",
    "# Create the bar graph\n",
    "plt.figure(figsize=(12, 6))\n",
    "plt.bar(top_50_ports['id.resp_p'], top_50_ports['count'], color=colors[0])\n",
    "\n",
    "# Add labels and title\n",
    "plt.xlabel('Response Port')\n",
    "plt.ylabel('Connections (log)')\n",
    "plt.yscale('log')\n",
    "#plt.title('Top 30 Most Common Response Ports')\n",
    "plt.xticks(rotation=90)  # Show every other port number\n",
    "plt.grid(axis='y')\n",
    "plt.tight_layout()\n",
    "plt.savefig('plots/top_50_ports_bar_graph.pdf')\n",
    "plt.show()"
   ]
  },
  {
   "cell_type": "code",
   "execution_count": null,
   "metadata": {},
   "outputs": [],
   "source": [
    "reg_ports = conn_log_df[(conn_log_df['id.resp_p'] >= 1024) & (conn_log_df['id.resp_p'] < 49151)] #49151"
   ]
  },
  {
   "cell_type": "code",
   "execution_count": null,
   "metadata": {},
   "outputs": [],
   "source": [
    "low_ports = conn_log_df[(conn_log_df['id.resp_p'] < 10)]"
   ]
  },
  {
   "cell_type": "code",
   "execution_count": null,
   "metadata": {},
   "outputs": [],
   "source": [
    "dyn_ports = conn_log_df[(conn_log_df['id.resp_p'] >= 49151)]"
   ]
  },
  {
   "cell_type": "code",
   "execution_count": null,
   "metadata": {},
   "outputs": [],
   "source": [
    "print(len(conn_log_df))\n",
    "print(len(low_ports)) # < 10\n",
    "print(len(filtered_df)) # well-known 10-1024\n",
    "print(len(reg_ports)) # 1024-49151\n",
    "print(len(dyn_ports)) # >49151\n",
    "print(f\"{round( len(low_ports) / len(conn_log_df)*100,2 )}% to low ports <10\")\n",
    "print(f\"{round( len(filtered_df) / len(conn_log_df)*100,2 )}% to well-known ports 10-1024\") # well-known\n",
    "print(f\"{round( len(reg_ports) / len(conn_log_df)*100,2 )}% to registered ports 1024-49151\")\n",
    "print(f\"{round( len(dyn_ports) / len(conn_log_df)*100,2 )} % to dynamic ports >49151\")"
   ]
  },
  {
   "cell_type": "code",
   "execution_count": null,
   "metadata": {},
   "outputs": [],
   "source": []
  },
  {
   "cell_type": "code",
   "execution_count": null,
   "metadata": {},
   "outputs": [],
   "source": []
  },
  {
   "cell_type": "code",
   "execution_count": null,
   "metadata": {},
   "outputs": [],
   "source": []
  },
  {
   "cell_type": "code",
   "execution_count": null,
   "metadata": {},
   "outputs": [],
   "source": []
  },
  {
   "cell_type": "code",
   "execution_count": null,
   "metadata": {},
   "outputs": [],
   "source": []
  },
  {
   "cell_type": "code",
   "execution_count": null,
   "metadata": {},
   "outputs": [],
   "source": []
  }
 ],
 "metadata": {
  "kernelspec": {
   "display_name": "Python 3 (ipykernel)",
   "language": "python",
   "name": "python3"
  },
  "language_info": {
   "codemirror_mode": {
    "name": "ipython",
    "version": 3
   },
   "file_extension": ".py",
   "mimetype": "text/x-python",
   "name": "python",
   "nbconvert_exporter": "python",
   "pygments_lexer": "ipython3",
   "version": "3.11.6"
  }
 },
 "nbformat": 4,
 "nbformat_minor": 4
}
